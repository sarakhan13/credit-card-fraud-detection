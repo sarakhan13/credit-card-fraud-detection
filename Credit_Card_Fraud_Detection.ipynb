{
  "cells": [
    {
      "cell_type": "markdown",
      "metadata": {
        "id": "xAdAU8g9ETca"
      },
      "source": [
        "**CREDIT CARD FRAUD DETECTION MODEL USING LOGISTIC REGRESSION, KNN, SVM, KERNEL SVM, DECISION TREE AND RANDOM FOREST CLASSIFICATION**\n"
      ]
    },
    {
      "cell_type": "markdown",
      "metadata": {
        "id": "e1b_jmZE8u95"
      },
      "source": [
        "https://www.kaggle.com/datasets/mlg-ulb/creditcardfraud/code "
      ]
    },
    {
      "cell_type": "markdown",
      "metadata": {
        "id": "UG0-FuXL4D9o"
      },
      "source": [
        "IMPORTING LIBRARIES "
      ]
    },
    {
      "cell_type": "code",
      "execution_count": null,
      "metadata": {
        "id": "eRq1RSej3-S2"
      },
      "outputs": [],
      "source": [
        "import numpy as np \n",
        "import matplotlib.pyplot as plt \n",
        "import pandas as pd"
      ]
    },
    {
      "cell_type": "markdown",
      "metadata": {
        "id": "AdUrzzyc4HnI"
      },
      "source": [
        "LOADING DATASET"
      ]
    },
    {
      "cell_type": "code",
      "execution_count": null,
      "metadata": {
        "colab": {
          "base_uri": "https://localhost:8080/",
          "height": 299
        },
        "id": "H4TYpiAr4KJ_",
        "outputId": "b97be7cb-4b12-4fe0-bf21-e16bb7f00dea"
      },
      "outputs": [
        {
          "output_type": "execute_result",
          "data": {
            "text/plain": [
              "   Time        V1        V2        V3        V4        V5        V6        V7  \\\n",
              "0   0.0 -1.359807 -0.072781  2.536347  1.378155 -0.338321  0.462388  0.239599   \n",
              "1   0.0  1.191857  0.266151  0.166480  0.448154  0.060018 -0.082361 -0.078803   \n",
              "2   1.0 -1.358354 -1.340163  1.773209  0.379780 -0.503198  1.800499  0.791461   \n",
              "3   1.0 -0.966272 -0.185226  1.792993 -0.863291 -0.010309  1.247203  0.237609   \n",
              "4   2.0 -1.158233  0.877737  1.548718  0.403034 -0.407193  0.095921  0.592941   \n",
              "\n",
              "         V8        V9  ...       V21       V22       V23       V24       V25  \\\n",
              "0  0.098698  0.363787  ... -0.018307  0.277838 -0.110474  0.066928  0.128539   \n",
              "1  0.085102 -0.255425  ... -0.225775 -0.638672  0.101288 -0.339846  0.167170   \n",
              "2  0.247676 -1.514654  ...  0.247998  0.771679  0.909412 -0.689281 -0.327642   \n",
              "3  0.377436 -1.387024  ... -0.108300  0.005274 -0.190321 -1.175575  0.647376   \n",
              "4 -0.270533  0.817739  ... -0.009431  0.798278 -0.137458  0.141267 -0.206010   \n",
              "\n",
              "        V26       V27       V28  Amount  Class  \n",
              "0 -0.189115  0.133558 -0.021053  149.62      0  \n",
              "1  0.125895 -0.008983  0.014724    2.69      0  \n",
              "2 -0.139097 -0.055353 -0.059752  378.66      0  \n",
              "3 -0.221929  0.062723  0.061458  123.50      0  \n",
              "4  0.502292  0.219422  0.215153   69.99      0  \n",
              "\n",
              "[5 rows x 31 columns]"
            ],
            "text/html": [
              "\n",
              "  <div id=\"df-0da21224-565d-4b21-8f6c-46d15da9632c\">\n",
              "    <div class=\"colab-df-container\">\n",
              "      <div>\n",
              "<style scoped>\n",
              "    .dataframe tbody tr th:only-of-type {\n",
              "        vertical-align: middle;\n",
              "    }\n",
              "\n",
              "    .dataframe tbody tr th {\n",
              "        vertical-align: top;\n",
              "    }\n",
              "\n",
              "    .dataframe thead th {\n",
              "        text-align: right;\n",
              "    }\n",
              "</style>\n",
              "<table border=\"1\" class=\"dataframe\">\n",
              "  <thead>\n",
              "    <tr style=\"text-align: right;\">\n",
              "      <th></th>\n",
              "      <th>Time</th>\n",
              "      <th>V1</th>\n",
              "      <th>V2</th>\n",
              "      <th>V3</th>\n",
              "      <th>V4</th>\n",
              "      <th>V5</th>\n",
              "      <th>V6</th>\n",
              "      <th>V7</th>\n",
              "      <th>V8</th>\n",
              "      <th>V9</th>\n",
              "      <th>...</th>\n",
              "      <th>V21</th>\n",
              "      <th>V22</th>\n",
              "      <th>V23</th>\n",
              "      <th>V24</th>\n",
              "      <th>V25</th>\n",
              "      <th>V26</th>\n",
              "      <th>V27</th>\n",
              "      <th>V28</th>\n",
              "      <th>Amount</th>\n",
              "      <th>Class</th>\n",
              "    </tr>\n",
              "  </thead>\n",
              "  <tbody>\n",
              "    <tr>\n",
              "      <th>0</th>\n",
              "      <td>0.0</td>\n",
              "      <td>-1.359807</td>\n",
              "      <td>-0.072781</td>\n",
              "      <td>2.536347</td>\n",
              "      <td>1.378155</td>\n",
              "      <td>-0.338321</td>\n",
              "      <td>0.462388</td>\n",
              "      <td>0.239599</td>\n",
              "      <td>0.098698</td>\n",
              "      <td>0.363787</td>\n",
              "      <td>...</td>\n",
              "      <td>-0.018307</td>\n",
              "      <td>0.277838</td>\n",
              "      <td>-0.110474</td>\n",
              "      <td>0.066928</td>\n",
              "      <td>0.128539</td>\n",
              "      <td>-0.189115</td>\n",
              "      <td>0.133558</td>\n",
              "      <td>-0.021053</td>\n",
              "      <td>149.62</td>\n",
              "      <td>0</td>\n",
              "    </tr>\n",
              "    <tr>\n",
              "      <th>1</th>\n",
              "      <td>0.0</td>\n",
              "      <td>1.191857</td>\n",
              "      <td>0.266151</td>\n",
              "      <td>0.166480</td>\n",
              "      <td>0.448154</td>\n",
              "      <td>0.060018</td>\n",
              "      <td>-0.082361</td>\n",
              "      <td>-0.078803</td>\n",
              "      <td>0.085102</td>\n",
              "      <td>-0.255425</td>\n",
              "      <td>...</td>\n",
              "      <td>-0.225775</td>\n",
              "      <td>-0.638672</td>\n",
              "      <td>0.101288</td>\n",
              "      <td>-0.339846</td>\n",
              "      <td>0.167170</td>\n",
              "      <td>0.125895</td>\n",
              "      <td>-0.008983</td>\n",
              "      <td>0.014724</td>\n",
              "      <td>2.69</td>\n",
              "      <td>0</td>\n",
              "    </tr>\n",
              "    <tr>\n",
              "      <th>2</th>\n",
              "      <td>1.0</td>\n",
              "      <td>-1.358354</td>\n",
              "      <td>-1.340163</td>\n",
              "      <td>1.773209</td>\n",
              "      <td>0.379780</td>\n",
              "      <td>-0.503198</td>\n",
              "      <td>1.800499</td>\n",
              "      <td>0.791461</td>\n",
              "      <td>0.247676</td>\n",
              "      <td>-1.514654</td>\n",
              "      <td>...</td>\n",
              "      <td>0.247998</td>\n",
              "      <td>0.771679</td>\n",
              "      <td>0.909412</td>\n",
              "      <td>-0.689281</td>\n",
              "      <td>-0.327642</td>\n",
              "      <td>-0.139097</td>\n",
              "      <td>-0.055353</td>\n",
              "      <td>-0.059752</td>\n",
              "      <td>378.66</td>\n",
              "      <td>0</td>\n",
              "    </tr>\n",
              "    <tr>\n",
              "      <th>3</th>\n",
              "      <td>1.0</td>\n",
              "      <td>-0.966272</td>\n",
              "      <td>-0.185226</td>\n",
              "      <td>1.792993</td>\n",
              "      <td>-0.863291</td>\n",
              "      <td>-0.010309</td>\n",
              "      <td>1.247203</td>\n",
              "      <td>0.237609</td>\n",
              "      <td>0.377436</td>\n",
              "      <td>-1.387024</td>\n",
              "      <td>...</td>\n",
              "      <td>-0.108300</td>\n",
              "      <td>0.005274</td>\n",
              "      <td>-0.190321</td>\n",
              "      <td>-1.175575</td>\n",
              "      <td>0.647376</td>\n",
              "      <td>-0.221929</td>\n",
              "      <td>0.062723</td>\n",
              "      <td>0.061458</td>\n",
              "      <td>123.50</td>\n",
              "      <td>0</td>\n",
              "    </tr>\n",
              "    <tr>\n",
              "      <th>4</th>\n",
              "      <td>2.0</td>\n",
              "      <td>-1.158233</td>\n",
              "      <td>0.877737</td>\n",
              "      <td>1.548718</td>\n",
              "      <td>0.403034</td>\n",
              "      <td>-0.407193</td>\n",
              "      <td>0.095921</td>\n",
              "      <td>0.592941</td>\n",
              "      <td>-0.270533</td>\n",
              "      <td>0.817739</td>\n",
              "      <td>...</td>\n",
              "      <td>-0.009431</td>\n",
              "      <td>0.798278</td>\n",
              "      <td>-0.137458</td>\n",
              "      <td>0.141267</td>\n",
              "      <td>-0.206010</td>\n",
              "      <td>0.502292</td>\n",
              "      <td>0.219422</td>\n",
              "      <td>0.215153</td>\n",
              "      <td>69.99</td>\n",
              "      <td>0</td>\n",
              "    </tr>\n",
              "  </tbody>\n",
              "</table>\n",
              "<p>5 rows × 31 columns</p>\n",
              "</div>\n",
              "      <button class=\"colab-df-convert\" onclick=\"convertToInteractive('df-0da21224-565d-4b21-8f6c-46d15da9632c')\"\n",
              "              title=\"Convert this dataframe to an interactive table.\"\n",
              "              style=\"display:none;\">\n",
              "        \n",
              "  <svg xmlns=\"http://www.w3.org/2000/svg\" height=\"24px\"viewBox=\"0 0 24 24\"\n",
              "       width=\"24px\">\n",
              "    <path d=\"M0 0h24v24H0V0z\" fill=\"none\"/>\n",
              "    <path d=\"M18.56 5.44l.94 2.06.94-2.06 2.06-.94-2.06-.94-.94-2.06-.94 2.06-2.06.94zm-11 1L8.5 8.5l.94-2.06 2.06-.94-2.06-.94L8.5 2.5l-.94 2.06-2.06.94zm10 10l.94 2.06.94-2.06 2.06-.94-2.06-.94-.94-2.06-.94 2.06-2.06.94z\"/><path d=\"M17.41 7.96l-1.37-1.37c-.4-.4-.92-.59-1.43-.59-.52 0-1.04.2-1.43.59L10.3 9.45l-7.72 7.72c-.78.78-.78 2.05 0 2.83L4 21.41c.39.39.9.59 1.41.59.51 0 1.02-.2 1.41-.59l7.78-7.78 2.81-2.81c.8-.78.8-2.07 0-2.86zM5.41 20L4 18.59l7.72-7.72 1.47 1.35L5.41 20z\"/>\n",
              "  </svg>\n",
              "      </button>\n",
              "      \n",
              "  <style>\n",
              "    .colab-df-container {\n",
              "      display:flex;\n",
              "      flex-wrap:wrap;\n",
              "      gap: 12px;\n",
              "    }\n",
              "\n",
              "    .colab-df-convert {\n",
              "      background-color: #E8F0FE;\n",
              "      border: none;\n",
              "      border-radius: 50%;\n",
              "      cursor: pointer;\n",
              "      display: none;\n",
              "      fill: #1967D2;\n",
              "      height: 32px;\n",
              "      padding: 0 0 0 0;\n",
              "      width: 32px;\n",
              "    }\n",
              "\n",
              "    .colab-df-convert:hover {\n",
              "      background-color: #E2EBFA;\n",
              "      box-shadow: 0px 1px 2px rgba(60, 64, 67, 0.3), 0px 1px 3px 1px rgba(60, 64, 67, 0.15);\n",
              "      fill: #174EA6;\n",
              "    }\n",
              "\n",
              "    [theme=dark] .colab-df-convert {\n",
              "      background-color: #3B4455;\n",
              "      fill: #D2E3FC;\n",
              "    }\n",
              "\n",
              "    [theme=dark] .colab-df-convert:hover {\n",
              "      background-color: #434B5C;\n",
              "      box-shadow: 0px 1px 3px 1px rgba(0, 0, 0, 0.15);\n",
              "      filter: drop-shadow(0px 1px 2px rgba(0, 0, 0, 0.3));\n",
              "      fill: #FFFFFF;\n",
              "    }\n",
              "  </style>\n",
              "\n",
              "      <script>\n",
              "        const buttonEl =\n",
              "          document.querySelector('#df-0da21224-565d-4b21-8f6c-46d15da9632c button.colab-df-convert');\n",
              "        buttonEl.style.display =\n",
              "          google.colab.kernel.accessAllowed ? 'block' : 'none';\n",
              "\n",
              "        async function convertToInteractive(key) {\n",
              "          const element = document.querySelector('#df-0da21224-565d-4b21-8f6c-46d15da9632c');\n",
              "          const dataTable =\n",
              "            await google.colab.kernel.invokeFunction('convertToInteractive',\n",
              "                                                     [key], {});\n",
              "          if (!dataTable) return;\n",
              "\n",
              "          const docLinkHtml = 'Like what you see? Visit the ' +\n",
              "            '<a target=\"_blank\" href=https://colab.research.google.com/notebooks/data_table.ipynb>data table notebook</a>'\n",
              "            + ' to learn more about interactive tables.';\n",
              "          element.innerHTML = '';\n",
              "          dataTable['output_type'] = 'display_data';\n",
              "          await google.colab.output.renderOutput(dataTable, element);\n",
              "          const docLink = document.createElement('div');\n",
              "          docLink.innerHTML = docLinkHtml;\n",
              "          element.appendChild(docLink);\n",
              "        }\n",
              "      </script>\n",
              "    </div>\n",
              "  </div>\n",
              "  "
            ]
          },
          "metadata": {},
          "execution_count": 3
        }
      ],
      "source": [
        "dataset = pd.read_csv(\"creditcard.csv\")\n",
        "dataset.head(5)"
      ]
    },
    {
      "cell_type": "code",
      "execution_count": null,
      "metadata": {
        "colab": {
          "base_uri": "https://localhost:8080/"
        },
        "id": "aFzaZ1VS4POH",
        "outputId": "8d000c74-376d-46dc-cc20-2088a9d1dc84"
      },
      "outputs": [
        {
          "output_type": "execute_result",
          "data": {
            "text/plain": [
              "Time      0\n",
              "V1        0\n",
              "V2        0\n",
              "V3        0\n",
              "V4        0\n",
              "V5        0\n",
              "V6        0\n",
              "V7        0\n",
              "V8        0\n",
              "V9        0\n",
              "V10       0\n",
              "V11       0\n",
              "V12       0\n",
              "V13       0\n",
              "V14       0\n",
              "V15       0\n",
              "V16       0\n",
              "V17       0\n",
              "V18       0\n",
              "V19       0\n",
              "V20       0\n",
              "V21       0\n",
              "V22       0\n",
              "V23       0\n",
              "V24       0\n",
              "V25       0\n",
              "V26       0\n",
              "V27       0\n",
              "V28       0\n",
              "Amount    0\n",
              "Class     0\n",
              "dtype: int64"
            ]
          },
          "metadata": {},
          "execution_count": 4
        }
      ],
      "source": [
        "#checking for missing values\n",
        "dataset.isnull().sum()"
      ]
    },
    {
      "cell_type": "markdown",
      "metadata": {
        "id": "JbtPrI3G8mcI"
      },
      "source": [
        "OVERCOMING DATA IMBALANCE PROBLEM USING SMOTE"
      ]
    },
    {
      "cell_type": "code",
      "execution_count": null,
      "metadata": {
        "colab": {
          "base_uri": "https://localhost:8080/"
        },
        "id": "ydst1QEe7UGa",
        "outputId": "5bbb7337-f806-4eef-e9aa-d7aaf4e3f169"
      },
      "outputs": [
        {
          "output_type": "execute_result",
          "data": {
            "text/plain": [
              "0    284315\n",
              "1       492\n",
              "Name: Class, dtype: int64"
            ]
          },
          "metadata": {},
          "execution_count": 5
        }
      ],
      "source": [
        "#checking for data imbalance \n",
        "dataset[\"Class\"].value_counts()"
      ]
    },
    {
      "cell_type": "code",
      "execution_count": null,
      "metadata": {
        "colab": {
          "base_uri": "https://localhost:8080/",
          "height": 350
        },
        "id": "hjSLb65j7oo6",
        "outputId": "cc741305-7b28-48ab-b576-3e3d7094f493"
      },
      "outputs": [
        {
          "output_type": "display_data",
          "data": {
            "text/plain": [
              "<Figure size 360x360 with 1 Axes>"
            ],
            "image/png": "[encoded data removed]"
          },
          "metadata": {
            "needs_background": "light"
          }
        }
      ],
      "source": [
        "data = {'No Fraud': 284315, 'Fraud': 492}\n",
        "fraud_type = list(data.keys())\n",
        "num_fraud = list(data.values())\n",
        "  \n",
        "fig = plt.figure(figsize = (5, 5))\n",
        " \n",
        "# creating the bar plot\n",
        "plt.bar(fraud_type, num_fraud, color ='blue',\n",
        "        width = 0.4)\n",
        " \n",
        "plt.xlabel(\"Classification of Fraud Type\")\n",
        "plt.ylabel(\"Number of observations available\")\n",
        "plt.title(\"Data Imbalance in dataset\")\n",
        "plt.show()"
      ]
    },
    {
      "cell_type": "code",
      "execution_count": null,
      "metadata": {
        "id": "MLcO6BCnBl6C"
      },
      "outputs": [],
      "source": [
        "#splitting independent and dependent variables\n",
        "X = dataset.drop(columns=\"Class\", axis = 1)\n",
        "y = dataset[\"Class\"]"
      ]
    },
    {
      "cell_type": "code",
      "execution_count": null,
      "metadata": {
        "colab": {
          "base_uri": "https://localhost:8080/"
        },
        "id": "prpS96C5A2o5",
        "outputId": "db5043dc-882f-4ee4-ed9f-5218a22c41bd"
      },
      "outputs": [
        {
          "output_type": "stream",
          "name": "stdout",
          "text": [
            "            Time         V1         V2        V3        V4        V5  \\\n",
            "0            0.0  -1.359807  -0.072781  2.536347  1.378155 -0.338321   \n",
            "1            0.0   1.191857   0.266151  0.166480  0.448154  0.060018   \n",
            "2            1.0  -1.358354  -1.340163  1.773209  0.379780 -0.503198   \n",
            "3            1.0  -0.966272  -0.185226  1.792993 -0.863291 -0.010309   \n",
            "4            2.0  -1.158233   0.877737  1.548718  0.403034 -0.407193   \n",
            "...          ...        ...        ...       ...       ...       ...   \n",
            "284802  172786.0 -11.881118  10.071785 -9.834783 -2.066656 -5.364473   \n",
            "284803  172787.0  -0.732789  -0.055080  2.035030 -0.738589  0.868229   \n",
            "284804  172788.0   1.919565  -0.301254 -3.249640 -0.557828  2.630515   \n",
            "284805  172788.0  -0.240440   0.530483  0.702510  0.689799 -0.377961   \n",
            "284806  172792.0  -0.533413  -0.189733  0.703337 -0.506271 -0.012546   \n",
            "\n",
            "              V6        V7        V8        V9  ...       V20       V21  \\\n",
            "0       0.462388  0.239599  0.098698  0.363787  ...  0.251412 -0.018307   \n",
            "1      -0.082361 -0.078803  0.085102 -0.255425  ... -0.069083 -0.225775   \n",
            "2       1.800499  0.791461  0.247676 -1.514654  ...  0.524980  0.247998   \n",
            "3       1.247203  0.237609  0.377436 -1.387024  ... -0.208038 -0.108300   \n",
            "4       0.095921  0.592941 -0.270533  0.817739  ...  0.408542 -0.009431   \n",
            "...          ...       ...       ...       ...  ...       ...       ...   \n",
            "284802 -2.606837 -4.918215  7.305334  1.914428  ...  1.475829  0.213454   \n",
            "284803  1.058415  0.024330  0.294869  0.584800  ...  0.059616  0.214205   \n",
            "284804  3.031260 -0.296827  0.708417  0.432454  ...  0.001396  0.232045   \n",
            "284805  0.623708 -0.686180  0.679145  0.392087  ...  0.127434  0.265245   \n",
            "284806 -0.649617  1.577006 -0.414650  0.486180  ...  0.382948  0.261057   \n",
            "\n",
            "             V22       V23       V24       V25       V26       V27       V28  \\\n",
            "0       0.277838 -0.110474  0.066928  0.128539 -0.189115  0.133558 -0.021053   \n",
            "1      -0.638672  0.101288 -0.339846  0.167170  0.125895 -0.008983  0.014724   \n",
            "2       0.771679  0.909412 -0.689281 -0.327642 -0.139097 -0.055353 -0.059752   \n",
            "3       0.005274 -0.190321 -1.175575  0.647376 -0.221929  0.062723  0.061458   \n",
            "4       0.798278 -0.137458  0.141267 -0.206010  0.502292  0.219422  0.215153   \n",
            "...          ...       ...       ...       ...       ...       ...       ...   \n",
            "284802  0.111864  1.014480 -0.509348  1.436807  0.250034  0.943651  0.823731   \n",
            "284803  0.924384  0.012463 -1.016226 -0.606624 -0.395255  0.068472 -0.053527   \n",
            "284804  0.578229 -0.037501  0.640134  0.265745 -0.087371  0.004455 -0.026561   \n",
            "284805  0.800049 -0.163298  0.123205 -0.569159  0.546668  0.108821  0.104533   \n",
            "284806  0.643078  0.376777  0.008797 -0.473649 -0.818267 -0.002415  0.013649   \n",
            "\n",
            "        Amount  \n",
            "0       149.62  \n",
            "1         2.69  \n",
            "2       378.66  \n",
            "3       123.50  \n",
            "4        69.99  \n",
            "...        ...  \n",
            "284802    0.77  \n",
            "284803   24.79  \n",
            "284804   67.88  \n",
            "284805   10.00  \n",
            "284806  217.00  \n",
            "\n",
            "[284807 rows x 30 columns]\n"
          ]
        }
      ],
      "source": [
        "print(X)"
      ]
    },
    {
      "cell_type": "code",
      "execution_count": null,
      "metadata": {
        "colab": {
          "base_uri": "https://localhost:8080/"
        },
        "id": "oK29ZPBcA2ny",
        "outputId": "01e06a1e-aa4d-4015-b452-634793479706"
      },
      "outputs": [
        {
          "output_type": "stream",
          "name": "stdout",
          "text": [
            "0         0\n",
            "1         0\n",
            "2         0\n",
            "3         0\n",
            "4         0\n",
            "         ..\n",
            "284802    0\n",
            "284803    0\n",
            "284804    0\n",
            "284805    0\n",
            "284806    0\n",
            "Name: Class, Length: 284807, dtype: int64\n"
          ]
        }
      ],
      "source": [
        "print(y)"
      ]
    },
    {
      "cell_type": "code",
      "execution_count": null,
      "metadata": {
        "colab": {
          "base_uri": "https://localhost:8080/"
        },
        "id": "FX3ON0VyBWpB",
        "outputId": "123f2f83-4330-4c9e-b246-62cd0d414d32"
      },
      "outputs": [
        {
          "output_type": "stream",
          "name": "stdout",
          "text": [
            "Counter({0: 284315, 1: 492})\n"
          ]
        }
      ],
      "source": [
        "import collections\n",
        "counter = collections.Counter(y)\n",
        "print(counter)"
      ]
    },
    {
      "cell_type": "code",
      "execution_count": null,
      "metadata": {
        "id": "Psrn6MWQCHto"
      },
      "outputs": [],
      "source": [
        "#oversampling Y to balance the dataset\n",
        "from imblearn.over_sampling import SMOTE\n",
        "oversample = SMOTE()\n",
        "X, y = oversample.fit_resample(X, y)"
      ]
    },
    {
      "cell_type": "code",
      "execution_count": null,
      "metadata": {
        "colab": {
          "base_uri": "https://localhost:8080/"
        },
        "id": "1gnIOEReDBWo",
        "outputId": "3ae223e7-27f9-4222-a8ec-239f42ac401c"
      },
      "outputs": [
        {
          "output_type": "stream",
          "name": "stdout",
          "text": [
            "Counter({0: 284315, 1: 284315})\n"
          ]
        }
      ],
      "source": [
        "#checking for successful oversampling\n",
        "import collections\n",
        "counter = collections.Counter(y)\n",
        "print(counter)"
      ]
    },
    {
      "cell_type": "code",
      "execution_count": null,
      "metadata": {
        "colab": {
          "base_uri": "https://localhost:8080/",
          "height": 350
        },
        "id": "_Y5LVoE3-T1L",
        "outputId": "a120c3df-2a6c-44de-b609-93aa9a11ac4d"
      },
      "outputs": [
        {
          "output_type": "display_data",
          "data": {
            "text/plain": [
              "<Figure size 360x360 with 1 Axes>"
            ],
            "image/png": "[encoded data removed]"
          },
          "metadata": {
            "needs_background": "light"
          }
        }
      ],
      "source": [
        "bal_data = {'No Fraud': 284315, 'Fraud': 284315}\n",
        "fraud_type = list(bal_data.keys())\n",
        "num_fraud = list(bal_data.values())\n",
        "  \n",
        "fig = plt.figure(figsize = (5, 5))\n",
        " \n",
        "# creating the bar plot\n",
        "plt.bar(fraud_type, num_fraud, color ='blue',\n",
        "        width = 0.4)\n",
        " \n",
        "plt.xlabel(\"Classification of Fraud Type\")\n",
        "plt.ylabel(\"Number of observations available\")\n",
        "plt.title(\"Balanced Dataset\")\n",
        "plt.show()"
      ]
    },
    {
      "cell_type": "markdown",
      "metadata": {
        "id": "aVtWBwK17-LA"
      },
      "source": [
        "SPLITTING DATASET"
      ]
    },
    {
      "cell_type": "code",
      "execution_count": null,
      "metadata": {
        "id": "hjveNCj079Vy"
      },
      "outputs": [],
      "source": [
        "from sklearn.model_selection import train_test_split \n",
        "X_train, X_test, y_train, y_test = train_test_split(X, y, test_size = 0.20)"
      ]
    },
    {
      "cell_type": "markdown",
      "metadata": {
        "id": "ck9Dt-CK2_CN"
      },
      "source": [
        "FEATURE SCALING"
      ]
    },
    {
      "cell_type": "code",
      "execution_count": null,
      "metadata": {
        "id": "J_qJt3oJ3AoS"
      },
      "outputs": [],
      "source": [
        "from sklearn.preprocessing import StandardScaler \n",
        "sc = StandardScaler()\n",
        "X_train[[\"Time\", \"Amount\"]] = sc.fit_transform(X_train[[\"Time\", \"Amount\"]])\n",
        "X_test[[\"Time\", \"Amount\"]] = sc.transform(X_test[[\"Time\", \"Amount\"]])"
      ]
    },
    {
      "cell_type": "code",
      "execution_count": null,
      "metadata": {
        "colab": {
          "base_uri": "https://localhost:8080/"
        },
        "id": "6RK5CG945AuS",
        "outputId": "cf8cd351-719f-40d4-e2f3-0be7f3813008"
      },
      "outputs": [
        {
          "output_type": "stream",
          "name": "stdout",
          "text": [
            "            Time         V1         V2         V3        V4         V5  \\\n",
            "162940  0.576597   2.038913   0.528394  -2.386035  0.778121   0.495012   \n",
            "166767  0.634563  -0.016400   1.128796  -0.700766 -1.035438   1.107485   \n",
            "404294 -0.614882  -0.900177   2.285153  -2.747532  3.541599   0.163408   \n",
            "492355 -1.257775 -25.214943  14.302062 -26.782233  6.347031 -18.630812   \n",
            "335478 -0.966579 -10.593925   5.923701 -11.671340  8.757869  -7.979743   \n",
            "...          ...        ...        ...        ...       ...        ...   \n",
            "162597  0.570946  -0.906367   0.119679   1.081533 -2.512543   0.376275   \n",
            "103213 -0.399059   1.146503  -0.200359   1.449262  0.904295  -1.404907   \n",
            "35149  -1.033984   1.015056  -0.500630   0.070896 -0.841525  -0.815229   \n",
            "547872 -0.489112  -4.365391   2.456434  -4.290802  3.132465  -3.911339   \n",
            "324364  1.690928  -1.918576   1.126114  -4.519698  1.748343  -1.560832   \n",
            "\n",
            "              V6         V7         V8        V9  ...       V20       V21  \\\n",
            "162940 -1.745072   0.312794  -0.344786  0.615901  ... -0.206359  0.095046   \n",
            "166767 -1.690576   1.725187  -0.493691 -0.422098  ... -0.085471  0.251423   \n",
            "404294 -1.108913  -0.715528  -0.608893 -2.539820  ...  0.786367 -0.187764   \n",
            "492355 -4.644556 -17.949144  16.601206 -3.770308  ...  1.657598  1.780424   \n",
            "335478 -3.589851 -13.588350   6.409316 -7.341725  ... -0.032836  2.563053   \n",
            "...          ...        ...        ...       ...  ...       ...       ...   \n",
            "162597 -0.720310   0.565865  -0.162163 -1.741732  ...  0.063781  0.394064   \n",
            "103213 -0.636344  -0.648809   0.057767  0.969127  ... -0.135516 -0.064918   \n",
            "35149  -1.175147   0.128168  -0.173231  0.871791  ...  0.106843  0.113922   \n",
            "547872 -0.559727  -3.368967   1.323413 -1.449900  ... -0.657597  0.653263   \n",
            "324364 -2.008569  -0.884343   0.695948 -2.062306  ...  1.250076  0.777436   \n",
            "\n",
            "             V22       V23       V24       V25       V26       V27       V28  \\\n",
            "162940  0.449632 -0.032154 -0.247427  0.218505 -0.095088  0.018575  0.005732   \n",
            "166767  0.961465 -0.252042  0.044832 -0.321585  0.090885  0.400669  0.268205   \n",
            "404294 -0.183547 -0.225332 -0.240743  0.398073  0.014232  0.310209  0.317582   \n",
            "492355 -1.857026 -1.184551  0.156330  1.764223 -0.219958  1.413611  0.415252   \n",
            "335478  0.195298 -1.628384  0.554783 -0.027684  0.358216  0.285544 -0.147717   \n",
            "...          ...       ...       ...       ...       ...       ...       ...   \n",
            "162597  0.928579 -0.622247 -0.281081  0.958010 -0.009616 -0.139398  0.033815   \n",
            "103213 -0.018351  0.106081  0.961600  0.146875  0.390318  0.006743  0.030416   \n",
            "35149   0.123647 -0.171087  0.551486  0.574143 -0.728946  0.017000  0.034401   \n",
            "547872  0.585172  0.150902 -0.023061  0.208252  0.519897 -1.264683  0.249654   \n",
            "324364 -0.318211  0.637209 -0.294283  0.537459  0.788257  0.292952  0.148077   \n",
            "\n",
            "          Amount  \n",
            "162940 -0.426288  \n",
            "166767 -0.427723  \n",
            "404294  0.298066  \n",
            "492355  0.017585  \n",
            "335478 -0.427581  \n",
            "...          ...  \n",
            "162597 -0.267374  \n",
            "103213 -0.386156  \n",
            "35149   0.125246  \n",
            "547872  0.567397  \n",
            "324364  1.313081  \n",
            "\n",
            "[454904 rows x 30 columns]\n"
          ]
        }
      ],
      "source": [
        "print(X_train)"
      ]
    },
    {
      "cell_type": "code",
      "execution_count": null,
      "metadata": {
        "colab": {
          "base_uri": "https://localhost:8080/"
        },
        "id": "R4_s86M-uG1U",
        "outputId": "ec255ae1-f876-4334-edff-be9b67838560"
      },
      "outputs": [
        {
          "output_type": "stream",
          "name": "stdout",
          "text": [
            "            Time        V1        V2        V3        V4        V5        V6  \\\n",
            "566212  1.134171 -2.421548  0.858512 -4.584762  4.289283  0.132819 -0.307795   \n",
            "298392  1.505241 -2.705222  1.581581 -2.186677  2.375582 -1.111366 -1.074637   \n",
            "251389  1.403974 -1.989265 -1.252906  1.367787  1.116307  0.958361 -0.241307   \n",
            "394752 -0.724648  0.018639 -0.563732  0.825951  2.060238 -0.892289  0.417710   \n",
            "118514 -0.262746  1.296218  0.043078 -0.235619  0.057475  0.528526  0.769875   \n",
            "...          ...       ...       ...       ...       ...       ...       ...   \n",
            "522710  1.114506 -5.513354 -1.807204 -4.299714  2.731130 -0.537452 -0.323660   \n",
            "108843 -0.346017 -1.213990  0.673301  1.146411  0.005007  1.347501 -1.276989   \n",
            "556298  0.796336 -0.469367  1.738145 -3.411423  0.867916  0.190290 -1.369450   \n",
            "464650  1.381767 -0.571767  2.637450 -4.083519  1.414715  1.060387 -1.344236   \n",
            "129906 -0.176940  1.182883 -0.557886  0.736580 -0.954457 -0.930228  0.124596   \n",
            "\n",
            "              V7        V8        V9  ...       V20       V21       V22  \\\n",
            "566212 -0.447193  0.331862 -2.803206  ...  0.021932  0.321439  0.406618   \n",
            "298392 -0.724059 -0.265707 -0.302248  ... -0.438701  0.150700  0.132471   \n",
            "251389  0.339842  0.164062 -1.078075  ...  1.143665  0.362500  0.197853   \n",
            "394752  0.328284  0.226643  0.111360  ...  0.470669  0.264440  0.462716   \n",
            "118514 -0.215934  0.240763  0.032972  ... -0.115204 -0.302105 -0.907332   \n",
            "...          ...       ...       ...  ...       ...       ...       ...   \n",
            "522710 -3.524389  1.957651 -1.908678  ...  0.189334  1.148429  1.094249   \n",
            "108843  1.883140 -1.205430 -0.017578  ... -0.306062 -0.048950  0.525822   \n",
            "556298 -0.965119  0.297926 -2.314292  ... -0.229069  0.124622 -0.250906   \n",
            "464650 -0.625028  0.596100 -2.377548  ...  0.253641  0.398698  0.119689   \n",
            "129906 -0.855382  0.353083  1.792559  ... -0.225520  0.029290  0.265987   \n",
            "\n",
            "             V23       V24       V25       V26       V27       V28    Amount  \n",
            "566212  1.256995 -0.100749  0.460421  0.006502  0.486440 -0.333664  1.012996  \n",
            "298392  0.210170  0.131490  0.069890 -0.719752 -1.225046  0.483847  0.146110  \n",
            "251389  0.675634 -0.580684 -0.234951  2.293331  0.045236  0.213567  0.830133  \n",
            "394752  0.492243  0.169659  0.122779  0.432188 -0.128013 -0.051454  0.680771  \n",
            "118514 -0.049046 -1.739890  0.315586  0.216970 -0.024298 -0.014063 -0.424988  \n",
            "...          ...       ...       ...       ...       ...       ...       ...  \n",
            "522710 -1.314390 -1.177496 -0.237930  0.159668  0.771795 -0.558138  0.333291  \n",
            "108843 -0.030602  0.413710  0.086343 -0.650213 -1.019247 -0.390534 -0.427454  \n",
            "556298 -0.263947  0.380062  0.475016  0.674162 -0.106679  0.067268 -0.340329  \n",
            "464650 -0.351576 -0.177922  0.277147  0.631312  0.272301  0.163153 -0.427356  \n",
            "129906 -0.042374 -0.322572  0.393689 -0.649283  0.096727  0.015368 -0.426288  \n",
            "\n",
            "[113726 rows x 30 columns]\n"
          ]
        }
      ],
      "source": [
        "print(X_test)"
      ]
    },
    {
      "cell_type": "markdown",
      "metadata": {
        "id": "sWYJsY3xDSEq"
      },
      "source": [
        "**LOGISTIC REGRESSION**\n",
        "\n",
        "---\n",
        "\n",
        "\n",
        "BUILD AND TRAIN THE MODEL"
      ]
    },
    {
      "cell_type": "code",
      "execution_count": null,
      "metadata": {
        "colab": {
          "base_uri": "https://localhost:8080/"
        },
        "id": "YJiyhBhQDRlC",
        "outputId": "05a7b97f-f0fd-4f10-dd28-486a697a54fa"
      },
      "outputs": [
        {
          "data": {
            "text/plain": [
              "LogisticRegression()"
            ]
          },
          "execution_count": 17,
          "metadata": {},
          "output_type": "execute_result"
        }
      ],
      "source": [
        "from sklearn.linear_model import LogisticRegression\n",
        "log_class = LogisticRegression()\n",
        "log_class.fit(X_train, y_train)"
      ]
    },
    {
      "cell_type": "markdown",
      "metadata": {
        "id": "imAt0oh_E587"
      },
      "source": [
        "MAKE PREDICTIONS"
      ]
    },
    {
      "cell_type": "code",
      "execution_count": null,
      "metadata": {
        "id": "C3mdt42V5G9B"
      },
      "outputs": [],
      "source": [
        "log_y_pred = log_class.predict(X_test)"
      ]
    },
    {
      "cell_type": "code",
      "execution_count": null,
      "metadata": {
        "colab": {
          "base_uri": "https://localhost:8080/"
        },
        "id": "mezevJbA5PXf",
        "outputId": "ce6f5683-af1f-4968-befa-95197550120a"
      },
      "outputs": [
        {
          "name": "stdout",
          "output_type": "stream",
          "text": [
            "[[56498   494]\n",
            " [ 1721 55013]]\n",
            "The accuracy score for logistic regression classifier is:  0.9805233631711306\n"
          ]
        }
      ],
      "source": [
        "from sklearn.metrics import confusion_matrix, accuracy_score\n",
        "cm1 = confusion_matrix(y_test, log_y_pred)\n",
        "print(cm1)\n",
        "\n",
        "ac1 = accuracy_score(y_test, log_y_pred)\n",
        "print(\"The accuracy score for logistic regression classifier is: \", ac1)"
      ]
    },
    {
      "cell_type": "markdown",
      "metadata": {
        "id": "4SCteJ1JE3MR"
      },
      "source": [
        "**KNN**\n",
        "\n",
        "---\n",
        "\n",
        "\n",
        "\n"
      ]
    },
    {
      "cell_type": "markdown",
      "metadata": {
        "id": "mlYdk7La6C12"
      },
      "source": [
        "BUILD AND TRAIN THE MODEL"
      ]
    },
    {
      "cell_type": "code",
      "execution_count": null,
      "metadata": {
        "colab": {
          "base_uri": "https://localhost:8080/"
        },
        "id": "-Sp6e_pN6BaR",
        "outputId": "45caa943-0677-4fc4-c5b2-a5cc0d33e4e9"
      },
      "outputs": [
        {
          "data": {
            "text/plain": [
              "KNeighborsClassifier()"
            ]
          },
          "execution_count": 21,
          "metadata": {},
          "output_type": "execute_result"
        }
      ],
      "source": [
        "from sklearn.neighbors import KNeighborsClassifier \n",
        "knn_class = KNeighborsClassifier(n_neighbors = 5, p = 2, metric = \"minkowski\")\n",
        "knn_class.fit(X_train, y_train)"
      ]
    },
    {
      "cell_type": "markdown",
      "metadata": {
        "id": "HyomWA9e6EdJ"
      },
      "source": [
        "MAKING PREDICTIONS"
      ]
    },
    {
      "cell_type": "code",
      "execution_count": null,
      "metadata": {
        "id": "tSd55DnLFeQy"
      },
      "outputs": [],
      "source": [
        "knn_y_pred = knn_class.predict(X_test)"
      ]
    },
    {
      "cell_type": "markdown",
      "metadata": {
        "id": "4EIMlEHsj-Fo"
      },
      "source": [
        "EVALUATING THE MODEL "
      ]
    },
    {
      "cell_type": "code",
      "execution_count": null,
      "metadata": {
        "colab": {
          "base_uri": "https://localhost:8080/"
        },
        "id": "QIJ2lW6GFn-T",
        "outputId": "1de76880-4490-4738-8119-33ee0a2ccc70"
      },
      "outputs": [
        {
          "name": "stdout",
          "output_type": "stream",
          "text": [
            "[[56919    73]\n",
            " [    0 56734]]\n",
            "The accuracy score for KNN classifier is:  0.9993581063257303\n"
          ]
        }
      ],
      "source": [
        "from sklearn.metrics import confusion_matrix, accuracy_score \n",
        "cm2 = confusion_matrix(y_test, knn_y_pred)\n",
        "print(cm2)\n",
        "ac2 = accuracy_score(y_test, knn_y_pred)\n",
        "print(\"The accuracy score for KNN classifier is: \", ac2)"
      ]
    },
    {
      "cell_type": "markdown",
      "metadata": {
        "id": "2vJ3AS8xjd5i"
      },
      "source": [
        "**KERNEL SVM**\n",
        "\n",
        "\n",
        "---\n",
        "\n"
      ]
    },
    {
      "cell_type": "markdown",
      "metadata": {
        "id": "NW2nAjwCih4h"
      },
      "source": [
        "BUILDING AND TRAINING MODEL"
      ]
    },
    {
      "cell_type": "code",
      "execution_count": null,
      "metadata": {
        "id": "g_KfQTg-ihgn",
        "colab": {
          "base_uri": "https://localhost:8080/"
        },
        "outputId": "cebcc532-cb63-4636-ce21-9b3aaeea90a0"
      },
      "outputs": [
        {
          "output_type": "execute_result",
          "data": {
            "text/plain": [
              "SVC()"
            ]
          },
          "metadata": {},
          "execution_count": 18
        }
      ],
      "source": [
        "from sklearn.svm import SVC \n",
        "kersvm_class = SVC(kernel=\"rbf\")\n",
        "kersvm_class.fit(X_train, y_train)"
      ]
    },
    {
      "cell_type": "markdown",
      "metadata": {
        "id": "B61zNC5VijrR"
      },
      "source": [
        "MAKING PREDICTIONS"
      ]
    },
    {
      "cell_type": "code",
      "execution_count": null,
      "metadata": {
        "id": "z9xU5cImik7Y"
      },
      "outputs": [],
      "source": [
        "kersvm_y_pred = kersvm_class.predict(X_test)"
      ]
    },
    {
      "cell_type": "markdown",
      "metadata": {
        "id": "EfBp2FQjilMo"
      },
      "source": [
        "EVALUATING THE MODEL"
      ]
    },
    {
      "cell_type": "code",
      "execution_count": null,
      "metadata": {
        "id": "wRaklK1YimiA",
        "colab": {
          "base_uri": "https://localhost:8080/"
        },
        "outputId": "6fa7aa96-4476-44ac-ff00-6131c594a752"
      },
      "outputs": [
        {
          "output_type": "stream",
          "name": "stdout",
          "text": [
            "[[56652   195]\n",
            " [  865 56014]]\n",
            "The accuracy score for non-linear SVM classifier is:  0.9906793521270422\n"
          ]
        }
      ],
      "source": [
        "from sklearn.metrics import confusion_matrix, accuracy_score \n",
        "cm4 = confusion_matrix(y_test, kersvm_y_pred)\n",
        "print(cm4)\n",
        "ac4 = accuracy_score(y_test, kersvm_y_pred)\n",
        "print(\"The accuracy score for non-linear SVM classifier is: \", ac4)"
      ]
    },
    {
      "cell_type": "markdown",
      "metadata": {
        "id": "H17Qd0XijmKx"
      },
      "source": [
        "**NAIVE BAYES**\n",
        "\n",
        "\n",
        "---\n",
        "\n"
      ]
    },
    {
      "cell_type": "markdown",
      "metadata": {
        "id": "kn1KQ9zCD6zn"
      },
      "source": [
        "BUILDING AND TRAINING THE MODEL"
      ]
    },
    {
      "cell_type": "code",
      "execution_count": null,
      "metadata": {
        "id": "Tv2ebTezFr0_",
        "colab": {
          "base_uri": "https://localhost:8080/"
        },
        "outputId": "9abdfc72-418e-4ff6-ab73-5ee6b9cac4c2"
      },
      "outputs": [
        {
          "output_type": "execute_result",
          "data": {
            "text/plain": [
              "GaussianNB()"
            ]
          },
          "metadata": {},
          "execution_count": 20
        }
      ],
      "source": [
        "from sklearn.naive_bayes import GaussianNB \n",
        "nb_class = GaussianNB()\n",
        "nb_class.fit(X_train, y_train)"
      ]
    },
    {
      "cell_type": "markdown",
      "metadata": {
        "id": "3A4aJRKxD8jp"
      },
      "source": [
        "MAKING PREDICTIONS"
      ]
    },
    {
      "cell_type": "code",
      "execution_count": null,
      "metadata": {
        "id": "BlDzdJGmF0GP"
      },
      "outputs": [],
      "source": [
        "nb_y_pred = nb_class.predict(X_test)"
      ]
    },
    {
      "cell_type": "markdown",
      "metadata": {
        "id": "uWhBFatVD-HY"
      },
      "source": [
        "EVALUATING THE MODEL"
      ]
    },
    {
      "cell_type": "code",
      "execution_count": null,
      "metadata": {
        "id": "y8cM7n43F0Ep",
        "colab": {
          "base_uri": "https://localhost:8080/"
        },
        "outputId": "0bf92997-cae5-4658-b029-fb4fa6d56ea8"
      },
      "outputs": [
        {
          "output_type": "stream",
          "name": "stdout",
          "text": [
            "[[55474  1314]\n",
            " [ 7221 49717]]\n",
            "The accuracy score for naive bayes classifier is:  0.9249511984946275\n"
          ]
        }
      ],
      "source": [
        "from sklearn.metrics import confusion_matrix, accuracy_score \n",
        "cm5 = confusion_matrix(y_test, nb_y_pred)\n",
        "print(cm5)\n",
        "ac5 = accuracy_score(y_test, nb_y_pred)\n",
        "print(\"The accuracy score for naive bayes classifier is: \", ac5)"
      ]
    },
    {
      "cell_type": "markdown",
      "metadata": {
        "id": "q8z1e0cyjrYf"
      },
      "source": [
        "**DECISION TREE CLASSIFICATION**\n",
        "\n",
        "\n",
        "---\n",
        "\n"
      ]
    },
    {
      "cell_type": "markdown",
      "metadata": {
        "id": "UuRIMvWkEDoq"
      },
      "source": [
        "BUILDING AND TRAINING THE MODEL"
      ]
    },
    {
      "cell_type": "code",
      "execution_count": null,
      "metadata": {
        "id": "bn_aPQIhnhy0",
        "colab": {
          "base_uri": "https://localhost:8080/"
        },
        "outputId": "6d23ffa5-62f1-4245-b183-bbf6bd2b3766"
      },
      "outputs": [
        {
          "output_type": "execute_result",
          "data": {
            "text/plain": [
              "DecisionTreeClassifier(criterion='entropy')"
            ]
          },
          "metadata": {},
          "execution_count": 24
        }
      ],
      "source": [
        "from sklearn.tree import DecisionTreeClassifier \n",
        "dt_class = DecisionTreeClassifier(criterion=\"entropy\")\n",
        "dt_class.fit(X_train, y_train)"
      ]
    },
    {
      "cell_type": "markdown",
      "metadata": {
        "id": "6-JK-AvNEGt4"
      },
      "source": [
        "MAKING PREDICTIONS"
      ]
    },
    {
      "cell_type": "code",
      "execution_count": null,
      "metadata": {
        "id": "PTS7zn1VoEQi"
      },
      "outputs": [],
      "source": [
        "dt_y_pred = dt_class.predict(X_test)"
      ]
    },
    {
      "cell_type": "markdown",
      "metadata": {
        "id": "Q_lTNEzPEHzn"
      },
      "source": [
        "EVALUATING THE MODEL"
      ]
    },
    {
      "cell_type": "code",
      "execution_count": null,
      "metadata": {
        "id": "kpC_R4YJoIxS",
        "colab": {
          "base_uri": "https://localhost:8080/"
        },
        "outputId": "9b22e100-9626-4268-da43-54788ffc7756"
      },
      "outputs": [
        {
          "output_type": "stream",
          "name": "stdout",
          "text": [
            "[[56683   105]\n",
            " [   42 56896]]\n",
            "The accuracy score for Decision Tree classifier is:  0.9987074195874295\n"
          ]
        }
      ],
      "source": [
        "from sklearn.metrics import confusion_matrix, accuracy_score \n",
        "cm6 = confusion_matrix(y_test, dt_y_pred)\n",
        "print(cm6)\n",
        "ac6 = accuracy_score(y_test, dt_y_pred)\n",
        "print(\"The accuracy score for Decision Tree classifier is: \", ac6)"
      ]
    },
    {
      "cell_type": "markdown",
      "metadata": {
        "id": "4xDNdBLSjylI"
      },
      "source": [
        "**RANDOM FOREST CLASSIFICATION**\n",
        "\n",
        "\n",
        "---\n",
        "\n"
      ]
    },
    {
      "cell_type": "markdown",
      "metadata": {
        "id": "JUed7mjhEK9e"
      },
      "source": [
        "BUILDING AND TRAINING THE MODEL"
      ]
    },
    {
      "cell_type": "code",
      "execution_count": null,
      "metadata": {
        "id": "mS4z_lufokcT",
        "colab": {
          "base_uri": "https://localhost:8080/"
        },
        "outputId": "fb1be96a-ee5a-441c-c182-493936a9b496"
      },
      "outputs": [
        {
          "output_type": "execute_result",
          "data": {
            "text/plain": [
              "RandomForestClassifier(criterion='entropy', n_estimators=50)"
            ]
          },
          "metadata": {},
          "execution_count": 28
        }
      ],
      "source": [
        "from sklearn.ensemble import RandomForestClassifier\n",
        "rf_class = RandomForestClassifier(n_estimators = 50, criterion=\"entropy\")\n",
        "rf_class.fit(X_train, y_train)"
      ]
    },
    {
      "cell_type": "markdown",
      "metadata": {
        "id": "qZvplUfYEMw4"
      },
      "source": [
        "MAKING PREDICTIONS"
      ]
    },
    {
      "cell_type": "code",
      "execution_count": null,
      "metadata": {
        "id": "_3nlH3ELrCC1"
      },
      "outputs": [],
      "source": [
        "rf_y_pred = rf_class.predict(X_test)"
      ]
    },
    {
      "cell_type": "markdown",
      "metadata": {
        "id": "agH6hy-tEOV2"
      },
      "source": [
        "EVALUATING THE MODEL"
      ]
    },
    {
      "cell_type": "code",
      "execution_count": null,
      "metadata": {
        "id": "LR93rZrnrB5y",
        "colab": {
          "base_uri": "https://localhost:8080/"
        },
        "outputId": "2b46b860-f9af-49ec-b227-65c062f5d2ee"
      },
      "outputs": [
        {
          "output_type": "stream",
          "name": "stdout",
          "text": [
            "[[56779     9]\n",
            " [    0 56938]]\n",
            "The accuracy score for Decision Tree classifier is:  0.9999208624237201\n"
          ]
        }
      ],
      "source": [
        "from sklearn.metrics import confusion_matrix, accuracy_score \n",
        "cm7 = confusion_matrix(y_test, rf_y_pred)\n",
        "print(cm7)\n",
        "ac7 = accuracy_score(y_test, rf_y_pred)\n",
        "print(\"The accuracy score for Decision Tree classifier is: \", ac7)"
      ]
    },
    {
      "cell_type": "markdown",
      "source": [
        "**CONCLUSIONS**\n",
        "\n",
        "\n",
        "---\n",
        "\n"
      ],
      "metadata": {
        "id": "OkVIPDDb4HFu"
      }
    },
    {
      "cell_type": "markdown",
      "source": [
        "Six classification models were implemented to classify credit transcations in \"no fraud\" or \"fraud\" category.\n",
        "\n",
        "The logistic regression classification had an accuracy score of 98.05%. It was able to classify 56498 \"no frauds\" correctly and 494 incorrectly. For the \"frauds\", it was able to classify 55013 predictions correctly and 1721 incorrectly.\n",
        "\n",
        "\n",
        "The KNN classification had an accuracy score of 99.93%. It was able to classify 56919 \"no frauds\" correctly and 73 incorrectly. For the \"frauds\", it was able to classify all 56734 predictions correctly.\n",
        "\n",
        "The Kernel SVM classification had an accuracy score of 99.06%. It was able to classify 56652 \"no frauds\" correctly and 195 incorrectly. For the \"frauds\", it was able to classify 56014 predictions correctly and 865 incorrectly.\n",
        "\n",
        "The Naive Bayes classification had an accuracy score of 92.49%. It was able to classify 55474 \"no frauds\" correctly and 1314 incorrectly. For the \"frauds\", it was able to classify 49717 predictions correctly and 7221 incorrectly.\n",
        "\n",
        "The Decision Tree classification had an accuracy score of 99.87%. It was able to classify 56683 \"no frauds\" correctly and 105 incorrectly. For the \"frauds\", it was able to classify 56896 predictions correctly and 42 incorrectly.\n",
        "\n",
        "The Random Forest classification had an accuracy score of 99.99%. It was able to classify 56779 \"no frauds\" correctly and 9 incorrectly. For the \"frauds\", it was able to classify all 56938 predictions correctly.\n",
        "\n",
        "\n",
        "---\n",
        "\n",
        "\n",
        "Therefore, on the basis of the confusion matrix and accuracy score, Random Forest Classifier has performed the best followed by KNN Classifier. The Naiye Bayes Classifier has not performed as well as other classifiers for this particular problem. \n",
        "\n",
        "\n",
        "---\n",
        "\n"
      ],
      "metadata": {
        "id": "O1lmoTUg4Ll9"
      }
    }
  ],
  "metadata": {
    "colab": {
      "collapsed_sections": [],
      "provenance": []
    },
    "kernelspec": {
      "display_name": "Python 3",
      "name": "python3"
    },
    "language_info": {
      "name": "python"
    },
    "accelerator": "GPU"
  },
  "nbformat": 4,
  "nbformat_minor": 0
}